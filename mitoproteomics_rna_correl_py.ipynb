{
 "cells": [
  {
   "cell_type": "code",
   "execution_count": 1,
   "metadata": {},
   "outputs": [],
   "source": [
    "import numpy as np\n",
    "import pandas as pd\n",
    "import matplotlib.pyplot as plt\n",
    "import matplotlib.colors as mcolors\n",
    "import sys\n",
    "sys.path.append('../py_modules')\n",
    "import module_plt_params_de\n",
    "import module_denrichr_v02 as denrichr\n",
    "import imp\n",
    "\n",
    "# load data\n",
    "df = pd.read_table(\"mitoproteomics_acute_preprocessed.txt\")\n",
    "rnaseq = pd.read_table(\"./repos/GSE104897/bsn_rnaseq.txt\")\n",
    "tca_genes = pd.read_table(\"repos/tca_etc_candidates_figure_210131.csv\", sep=';')\n",
    "tca_genes = [x.capitalize() for x in tca_genes.loc[tca_genes.group=='tca', 'gene'].tolist()]"
   ]
  },
  {
   "cell_type": "code",
   "execution_count": 7,
   "metadata": {},
   "outputs": [],
   "source": [
    "# mean expression and mito proteins\n",
    "df['expression'] = [df.loc[i, ['mean_log2lfqctrl', 'mean_log2lfqeae']].mean() for i in range(len(df))]\n",
    "df = df.loc[df.mitocarta == 1, :]\n",
    "\n",
    "# merge proteomics and rna-seq data\n",
    "merged = df.merge(rnaseq, right_index=True, left_on='gene', how='left')\n",
    "merged = merged.loc[:, ['log2fc', 'log2FoldChange', 'gene', 'expression']]\n",
    "merged.columns = ['fc_p', 'fc_t', 'gene', 'expr']\n",
    "\n",
    "merged = merged.sort_values(by='fc_p')\n",
    "merged['rank_p'] = range(len(merged))\n",
    "\n",
    "merged = merged.sort_values(by='fc_t')\n",
    "merged['rank_t'] = range(len(merged))\n",
    "\n",
    "merged = merged.dropna()\n",
    "merged.index = range(len(merged))"
   ]
  },
  {
   "cell_type": "code",
   "execution_count": 8,
   "metadata": {},
   "outputs": [
    {
     "data": {
      "image/png": "[encoded data removed]",
      "text/plain": [
       "<Figure size 144x144 with 1 Axes>"
      ]
     },
     "metadata": {
      "needs_background": "light"
     },
     "output_type": "display_data"
    }
   ],
   "source": [
    "import nezzworker.nezzworker as nezzworker\n",
    "tca_genes = [x.capitalize() for x in nezzworker.getgenesets('custom_all').run()['Citric acid cycle (TCA cycle)'] if x.capitalize() in df.loc[df.mitocarta == 1, 'gene'].tolist()]\n",
    "ret_genes = [x.capitalize() for x in nezzworker.getgenesets('custom_all').run()['Respiratory electron transport'] if x.capitalize() in df.loc[df.mitocarta == 1, 'gene'].tolist()]\n",
    "\n",
    "\n",
    "fig = plt.figure(figsize=(2,2))\n",
    "ax = fig.add_axes([0,0,1,1])\n",
    "\n",
    "ax.scatter('fc_p', 'fc_t', data=merged.loc[merged.gene.isin(ret_genes)], s=20, lw=0, color='darkgreen', alpha=.9)\n",
    "ax.scatter('fc_p', 'fc_t', data=merged.loc[merged.gene.isin(tca_genes)], s=20, lw=0, color='orange', alpha=.9)\n",
    "ax.axhline(0, lw=.25, zorder=-1)\n",
    "ax.axvline(0, lw=.25,zorder=-1)\n",
    "ax.set_ylabel('log$_{2}$(EAE/control)\\nTranscriptome')\n",
    "ax.set_xlabel('log$_{2}$(EAE/control)\\nProteome')\n",
    "\n",
    "ax.scatter(-.75, 1.8, s=20, lw=0, color='orange')\n",
    "ax.text(-.7, 1.8, 'TCA cycle proteins', ha='left', va='center', fontsize=6)\n",
    "ax.scatter(-.75, 1.5, s=20, lw=0, color='darkgreen')\n",
    "ax.text(-.7, 1.5, 'ETC proteins', ha='left', va='center', fontsize=6)\n",
    "\n",
    "TEXTS = []\n",
    "for i in range(len(tca_genes)):\n",
    "    if tca_genes[i] in merged.gene.tolist():\n",
    "        x = merged.loc[merged.gene==tca_genes[int(i)], 'fc_p'].values[0]\n",
    "        y = merged.loc[merged.gene==tca_genes[int(i)], 'fc_t'].values[0]\n",
    "        text = tca_genes[i]\n",
    "        TEXTS.append(ax.text(x, y, text, color='0', fontsize=6, va='center', ha='left'))\n",
    "\n",
    "from adjustText import adjust_text\n",
    "adjust_text(\n",
    "    TEXTS, \n",
    "    expand_points=(4,4),\n",
    "    force_text=(.1,.1),\n",
    "    force_points=(.1,.1),\n",
    "    arrowprops=dict(\n",
    "        arrowstyle=\"->\",\n",
    "        color='0', \n",
    "        lw=.5\n",
    "    ),\n",
    "    ax=fig.axes[0]\n",
    ")\n",
    "\n",
    "fig.savefig('output/mitoproteomics_tca_ret_ptcorrel.pdf', transparent=True, dpi = 900, bbox_inches=\"tight\", pad_inches=.05)"
   ]
  }
 ],
 "metadata": {
  "interpreter": {
   "hash": "49bbfcb442e67ed80543c957059b62ab26a11c5e973405f8ba38500936c7a4a0"
  },
  "kernelspec": {
   "display_name": "Python 3.8.5 64-bit ('base': conda)",
   "name": "python3"
  },
  "language_info": {
   "codemirror_mode": {
    "name": "ipython",
    "version": 3
   },
   "file_extension": ".py",
   "mimetype": "text/x-python",
   "name": "python",
   "nbconvert_exporter": "python",
   "pygments_lexer": "ipython3",
   "version": "3.8.5"
  }
 },
 "nbformat": 4,
 "nbformat_minor": 4
}
