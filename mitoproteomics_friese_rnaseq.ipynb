{
 "cells": [
  {
   "cell_type": "markdown",
   "metadata": {},
   "source": [
    "### GSE104897 re-analysis (schattling et al. - bassoon paper)"
   ]
  },
  {
   "cell_type": "code",
   "execution_count": 1,
   "metadata": {
    "scrolled": true
   },
   "outputs": [
    {
     "name": "stderr",
     "output_type": "stream",
     "text": [
      "Loading required package: Biobase\n",
      "\n",
      "Loading required package: BiocGenerics\n",
      "\n",
      "Loading required package: parallel\n",
      "\n",
      "\n",
      "Attaching package: 'BiocGenerics'\n",
      "\n",
      "\n",
      "The following objects are masked from 'package:parallel':\n",
      "\n",
      "    clusterApply, clusterApplyLB, clusterCall, clusterEvalQ,\n",
      "    clusterExport, clusterMap, parApply, parCapply, parLapply,\n",
      "    parLapplyLB, parRapply, parSapply, parSapplyLB\n",
      "\n",
      "\n",
      "The following objects are masked from 'package:stats':\n",
      "\n",
      "    IQR, mad, sd, var, xtabs\n",
      "\n",
      "\n",
      "The following objects are masked from 'package:base':\n",
      "\n",
      "    anyDuplicated, append, as.data.frame, basename, cbind, colnames,\n",
      "    dirname, do.call, duplicated, eval, evalq, Filter, Find, get, grep,\n",
      "    grepl, intersect, is.unsorted, lapply, Map, mapply, match, mget,\n",
      "    order, paste, pmax, pmax.int, pmin, pmin.int, Position, rank,\n",
      "    rbind, Reduce, rownames, sapply, setdiff, sort, table, tapply,\n",
      "    union, unique, unsplit, which, which.max, which.min\n",
      "\n",
      "\n",
      "Welcome to Bioconductor\n",
      "\n",
      "    Vignettes contain introductory material; view with\n",
      "    'browseVignettes()'. To cite Bioconductor, see\n",
      "    'citation(\"Biobase\")', and for packages 'citation(\"pkgname\")'.\n",
      "\n",
      "\n",
      "Setting options('download.file.method.GEOquery'='auto')\n",
      "\n",
      "Setting options('GEOquery.inmemory.gpl'=FALSE)\n",
      "\n",
      "-- \u001b[1mAttaching packages\u001b[22m --------------------------------------- tidyverse 1.3.0 --\n",
      "\n",
      "\u001b[32mv\u001b[39m \u001b[34mggplot2\u001b[39m 3.3.2     \u001b[32mv\u001b[39m \u001b[34mpurrr  \u001b[39m 0.3.4\n",
      "\u001b[32mv\u001b[39m \u001b[34mtibble \u001b[39m 3.0.3     \u001b[32mv\u001b[39m \u001b[34mdplyr  \u001b[39m 1.0.2\n",
      "\u001b[32mv\u001b[39m \u001b[34mtidyr  \u001b[39m 1.1.2     \u001b[32mv\u001b[39m \u001b[34mstringr\u001b[39m 1.4.0\n",
      "\u001b[32mv\u001b[39m \u001b[34mreadr  \u001b[39m 1.3.1     \u001b[32mv\u001b[39m \u001b[34mforcats\u001b[39m 0.5.0\n",
      "\n",
      "-- \u001b[1mConflicts\u001b[22m ------------------------------------------ tidyverse_conflicts() --\n",
      "\u001b[31mx\u001b[39m \u001b[34mdplyr\u001b[39m::\u001b[32mcombine()\u001b[39m    masks \u001b[34mBiobase\u001b[39m::combine(), \u001b[34mBiocGenerics\u001b[39m::combine()\n",
      "\u001b[31mx\u001b[39m \u001b[34mdplyr\u001b[39m::\u001b[32mfilter()\u001b[39m     masks \u001b[34mstats\u001b[39m::filter()\n",
      "\u001b[31mx\u001b[39m \u001b[34mdplyr\u001b[39m::\u001b[32mlag()\u001b[39m        masks \u001b[34mstats\u001b[39m::lag()\n",
      "\u001b[31mx\u001b[39m \u001b[34mggplot2\u001b[39m::\u001b[32mPosition()\u001b[39m masks \u001b[34mBiocGenerics\u001b[39m::Position(), \u001b[34mbase\u001b[39m::Position()\n",
      "\n",
      "Found 1 file(s)\n",
      "\n",
      "GSE104897_series_matrix.txt.gz\n",
      "\n",
      "Parsed with column specification:\n",
      "cols(\n",
      "  .default = col_character()\n",
      ")\n",
      "\n",
      "See spec(...) for full column specifications.\n",
      "\n",
      "File stored at: \n",
      "\n",
      "C:\\Users\\de\\AppData\\Local\\Temp\\RtmpKu4V2z/GPL13112.soft\n",
      "\n"
     ]
    },
    {
     "data": {
      "text/html": [
       "<table>\n",
       "<caption>A data.frame: 1 × 7</caption>\n",
       "<thead>\n",
       "\t<tr><th></th><th scope=col>size</th><th scope=col>isdir</th><th scope=col>mode</th><th scope=col>mtime</th><th scope=col>ctime</th><th scope=col>atime</th><th scope=col>exe</th></tr>\n",
       "\t<tr><th></th><th scope=col>&lt;dbl&gt;</th><th scope=col>&lt;lgl&gt;</th><th scope=col>&lt;octmode&gt;</th><th scope=col>&lt;dttm&gt;</th><th scope=col>&lt;dttm&gt;</th><th scope=col>&lt;dttm&gt;</th><th scope=col>&lt;chr&gt;</th></tr>\n",
       "</thead>\n",
       "<tbody>\n",
       "\t<tr><th scope=row>P:/pro_mitoproteomics_de/repos//GSE104897/GSE104897_RAW.tar</th><td>7342080</td><td>FALSE</td><td>666</td><td>2020-11-09 16:38:05</td><td>2020-10-01 11:33:47</td><td>2020-11-09 16:38:05</td><td>no</td></tr>\n",
       "</tbody>\n",
       "</table>\n"
      ],
      "text/latex": [
       "A data.frame: 1 × 7\n",
       "\\begin{tabular}{r|lllllll}\n",
       "  & size & isdir & mode & mtime & ctime & atime & exe\\\\\n",
       "  & <dbl> & <lgl> & <octmode> & <dttm> & <dttm> & <dttm> & <chr>\\\\\n",
       "\\hline\n",
       "\tP:/pro\\_mitoproteomics\\_de/repos//GSE104897/GSE104897\\_RAW.tar & 7342080 & FALSE & 666 & 2020-11-09 16:38:05 & 2020-10-01 11:33:47 & 2020-11-09 16:38:05 & no\\\\\n",
       "\\end{tabular}\n"
      ],
      "text/markdown": [
       "\n",
       "A data.frame: 1 × 7\n",
       "\n",
       "| <!--/--> | size &lt;dbl&gt; | isdir &lt;lgl&gt; | mode &lt;octmode&gt; | mtime &lt;dttm&gt; | ctime &lt;dttm&gt; | atime &lt;dttm&gt; | exe &lt;chr&gt; |\n",
       "|---|---|---|---|---|---|---|---|\n",
       "| P:/pro_mitoproteomics_de/repos//GSE104897/GSE104897_RAW.tar | 7342080 | FALSE | 666 | 2020-11-09 16:38:05 | 2020-10-01 11:33:47 | 2020-11-09 16:38:05 | no |\n",
       "\n"
      ],
      "text/plain": [
       "                                                            size    isdir mode\n",
       "P:/pro_mitoproteomics_de/repos//GSE104897/GSE104897_RAW.tar 7342080 FALSE 666 \n",
       "                                                            mtime              \n",
       "P:/pro_mitoproteomics_de/repos//GSE104897/GSE104897_RAW.tar 2020-11-09 16:38:05\n",
       "                                                            ctime              \n",
       "P:/pro_mitoproteomics_de/repos//GSE104897/GSE104897_RAW.tar 2020-10-01 11:33:47\n",
       "                                                            atime              \n",
       "P:/pro_mitoproteomics_de/repos//GSE104897/GSE104897_RAW.tar 2020-11-09 16:38:05\n",
       "                                                            exe\n",
       "P:/pro_mitoproteomics_de/repos//GSE104897/GSE104897_RAW.tar no "
      ]
     },
     "metadata": {},
     "output_type": "display_data"
    },
    {
     "data": {
      "text/html": [
       "<table>\n",
       "<caption>A data.frame: 6 × 22</caption>\n",
       "<thead>\n",
       "\t<tr><th></th><th scope=col>gene</th><th scope=col>expr</th><th scope=col>SC-Healthy-rep1</th><th scope=col>SC-Healthy-rep2</th><th scope=col>SC-Healthy-rep3</th><th scope=col>SC-Healthy-rep4</th><th scope=col>SC-Healthy-rep5</th><th scope=col>SC-EAE-rep1</th><th scope=col>SC-EAE-rep2</th><th scope=col>SC-EAE-rep3</th><th scope=col>...</th><th scope=col>MN-Healthy-rep1</th><th scope=col>MN-Healthy-rep2</th><th scope=col>MN-Healthy-rep3</th><th scope=col>MN-Healthy-rep4</th><th scope=col>MN-Healthy-rep5</th><th scope=col>MN-EAE-rep1</th><th scope=col>MN-EAE-rep2</th><th scope=col>MN-EAE-rep3</th><th scope=col>MN-EAE-rep4</th><th scope=col>MN-EAE-rep5</th></tr>\n",
       "\t<tr><th></th><th scope=col>&lt;chr&gt;</th><th scope=col>&lt;dbl&gt;</th><th scope=col>&lt;int&gt;</th><th scope=col>&lt;int&gt;</th><th scope=col>&lt;int&gt;</th><th scope=col>&lt;int&gt;</th><th scope=col>&lt;int&gt;</th><th scope=col>&lt;int&gt;</th><th scope=col>&lt;int&gt;</th><th scope=col>&lt;int&gt;</th><th scope=col>...</th><th scope=col>&lt;int&gt;</th><th scope=col>&lt;int&gt;</th><th scope=col>&lt;int&gt;</th><th scope=col>&lt;int&gt;</th><th scope=col>&lt;int&gt;</th><th scope=col>&lt;int&gt;</th><th scope=col>&lt;int&gt;</th><th scope=col>&lt;int&gt;</th><th scope=col>&lt;int&gt;</th><th scope=col>&lt;int&gt;</th></tr>\n",
       "</thead>\n",
       "<tbody>\n",
       "\t<tr><th scope=row>1</th><td>ENSMUSG00000000001</td><td>NA</td><td>437</td><td>171</td><td>615</td><td>1229</td><td>878</td><td>819</td><td>250</td><td>755</td><td>...</td><td>227</td><td>152</td><td>184</td><td>424</td><td>1444</td><td>102</td><td> 0</td><td>32</td><td>30</td><td>288</td></tr>\n",
       "\t<tr><th scope=row>2</th><td>ENSMUSG00000000003</td><td>NA</td><td>  0</td><td>  0</td><td>  0</td><td>   0</td><td>  0</td><td>  0</td><td>  0</td><td>  0</td><td>...</td><td>  0</td><td>  0</td><td>  0</td><td>  0</td><td>   0</td><td>  0</td><td> 0</td><td> 0</td><td> 0</td><td>  0</td></tr>\n",
       "\t<tr><th scope=row>3</th><td>ENSMUSG00000000028</td><td>NA</td><td> 33</td><td> 22</td><td> 67</td><td>  92</td><td> 81</td><td> 75</td><td> 34</td><td> 54</td><td>...</td><td> 59</td><td>  0</td><td> 86</td><td> 84</td><td>  10</td><td> 34</td><td>15</td><td> 3</td><td> 0</td><td>  0</td></tr>\n",
       "\t<tr><th scope=row>4</th><td>ENSMUSG00000000031</td><td>NA</td><td>  5</td><td>  3</td><td>  9</td><td>   2</td><td>  2</td><td> 33</td><td> 29</td><td> 31</td><td>...</td><td>  0</td><td>  0</td><td>  0</td><td>  1</td><td>   0</td><td>  9</td><td> 0</td><td> 5</td><td> 0</td><td>104</td></tr>\n",
       "\t<tr><th scope=row>5</th><td>ENSMUSG00000000037</td><td>NA</td><td>  8</td><td>  5</td><td> 15</td><td>   9</td><td> 27</td><td>  8</td><td>  8</td><td>  6</td><td>...</td><td>  3</td><td>  0</td><td>  0</td><td> 21</td><td>   0</td><td>  7</td><td> 0</td><td> 0</td><td> 0</td><td>  0</td></tr>\n",
       "\t<tr><th scope=row>6</th><td>ENSMUSG00000000049</td><td>NA</td><td>  8</td><td>  1</td><td>  7</td><td>   6</td><td> 11</td><td>  4</td><td>  2</td><td>  3</td><td>...</td><td>  0</td><td>  0</td><td> 15</td><td> 21</td><td>   0</td><td>  0</td><td> 0</td><td> 0</td><td> 0</td><td>  0</td></tr>\n",
       "</tbody>\n",
       "</table>\n"
      ],
      "text/latex": [
       "A data.frame: 6 × 22\n",
       "\\begin{tabular}{r|lllllllllllllllllllll}\n",
       "  & gene & expr & SC-Healthy-rep1 & SC-Healthy-rep2 & SC-Healthy-rep3 & SC-Healthy-rep4 & SC-Healthy-rep5 & SC-EAE-rep1 & SC-EAE-rep2 & SC-EAE-rep3 & ... & MN-Healthy-rep1 & MN-Healthy-rep2 & MN-Healthy-rep3 & MN-Healthy-rep4 & MN-Healthy-rep5 & MN-EAE-rep1 & MN-EAE-rep2 & MN-EAE-rep3 & MN-EAE-rep4 & MN-EAE-rep5\\\\\n",
       "  & <chr> & <dbl> & <int> & <int> & <int> & <int> & <int> & <int> & <int> & <int> & ... & <int> & <int> & <int> & <int> & <int> & <int> & <int> & <int> & <int> & <int>\\\\\n",
       "\\hline\n",
       "\t1 & ENSMUSG00000000001 & NA & 437 & 171 & 615 & 1229 & 878 & 819 & 250 & 755 & ... & 227 & 152 & 184 & 424 & 1444 & 102 &  0 & 32 & 30 & 288\\\\\n",
       "\t2 & ENSMUSG00000000003 & NA &   0 &   0 &   0 &    0 &   0 &   0 &   0 &   0 & ... &   0 &   0 &   0 &   0 &    0 &   0 &  0 &  0 &  0 &   0\\\\\n",
       "\t3 & ENSMUSG00000000028 & NA &  33 &  22 &  67 &   92 &  81 &  75 &  34 &  54 & ... &  59 &   0 &  86 &  84 &   10 &  34 & 15 &  3 &  0 &   0\\\\\n",
       "\t4 & ENSMUSG00000000031 & NA &   5 &   3 &   9 &    2 &   2 &  33 &  29 &  31 & ... &   0 &   0 &   0 &   1 &    0 &   9 &  0 &  5 &  0 & 104\\\\\n",
       "\t5 & ENSMUSG00000000037 & NA &   8 &   5 &  15 &    9 &  27 &   8 &   8 &   6 & ... &   3 &   0 &   0 &  21 &    0 &   7 &  0 &  0 &  0 &   0\\\\\n",
       "\t6 & ENSMUSG00000000049 & NA &   8 &   1 &   7 &    6 &  11 &   4 &   2 &   3 & ... &   0 &   0 &  15 &  21 &    0 &   0 &  0 &  0 &  0 &   0\\\\\n",
       "\\end{tabular}\n"
      ],
      "text/markdown": [
       "\n",
       "A data.frame: 6 × 22\n",
       "\n",
       "| <!--/--> | gene &lt;chr&gt; | expr &lt;dbl&gt; | SC-Healthy-rep1 &lt;int&gt; | SC-Healthy-rep2 &lt;int&gt; | SC-Healthy-rep3 &lt;int&gt; | SC-Healthy-rep4 &lt;int&gt; | SC-Healthy-rep5 &lt;int&gt; | SC-EAE-rep1 &lt;int&gt; | SC-EAE-rep2 &lt;int&gt; | SC-EAE-rep3 &lt;int&gt; | ... ... | MN-Healthy-rep1 &lt;int&gt; | MN-Healthy-rep2 &lt;int&gt; | MN-Healthy-rep3 &lt;int&gt; | MN-Healthy-rep4 &lt;int&gt; | MN-Healthy-rep5 &lt;int&gt; | MN-EAE-rep1 &lt;int&gt; | MN-EAE-rep2 &lt;int&gt; | MN-EAE-rep3 &lt;int&gt; | MN-EAE-rep4 &lt;int&gt; | MN-EAE-rep5 &lt;int&gt; |\n",
       "|---|---|---|---|---|---|---|---|---|---|---|---|---|---|---|---|---|---|---|---|---|---|\n",
       "| 1 | ENSMUSG00000000001 | NA | 437 | 171 | 615 | 1229 | 878 | 819 | 250 | 755 | ... | 227 | 152 | 184 | 424 | 1444 | 102 |  0 | 32 | 30 | 288 |\n",
       "| 2 | ENSMUSG00000000003 | NA |   0 |   0 |   0 |    0 |   0 |   0 |   0 |   0 | ... |   0 |   0 |   0 |   0 |    0 |   0 |  0 |  0 |  0 |   0 |\n",
       "| 3 | ENSMUSG00000000028 | NA |  33 |  22 |  67 |   92 |  81 |  75 |  34 |  54 | ... |  59 |   0 |  86 |  84 |   10 |  34 | 15 |  3 |  0 |   0 |\n",
       "| 4 | ENSMUSG00000000031 | NA |   5 |   3 |   9 |    2 |   2 |  33 |  29 |  31 | ... |   0 |   0 |   0 |   1 |    0 |   9 |  0 |  5 |  0 | 104 |\n",
       "| 5 | ENSMUSG00000000037 | NA |   8 |   5 |  15 |    9 |  27 |   8 |   8 |   6 | ... |   3 |   0 |   0 |  21 |    0 |   7 |  0 |  0 |  0 |   0 |\n",
       "| 6 | ENSMUSG00000000049 | NA |   8 |   1 |   7 |    6 |  11 |   4 |   2 |   3 | ... |   0 |   0 |  15 |  21 |    0 |   0 |  0 |  0 |  0 |   0 |\n",
       "\n"
      ],
      "text/plain": [
       "  gene               expr SC-Healthy-rep1 SC-Healthy-rep2 SC-Healthy-rep3\n",
       "1 ENSMUSG00000000001 NA   437             171             615            \n",
       "2 ENSMUSG00000000003 NA     0               0               0            \n",
       "3 ENSMUSG00000000028 NA    33              22              67            \n",
       "4 ENSMUSG00000000031 NA     5               3               9            \n",
       "5 ENSMUSG00000000037 NA     8               5              15            \n",
       "6 ENSMUSG00000000049 NA     8               1               7            \n",
       "  SC-Healthy-rep4 SC-Healthy-rep5 SC-EAE-rep1 SC-EAE-rep2 SC-EAE-rep3 ...\n",
       "1 1229            878             819         250         755         ...\n",
       "2    0              0               0           0           0         ...\n",
       "3   92             81              75          34          54         ...\n",
       "4    2              2              33          29          31         ...\n",
       "5    9             27               8           8           6         ...\n",
       "6    6             11               4           2           3         ...\n",
       "  MN-Healthy-rep1 MN-Healthy-rep2 MN-Healthy-rep3 MN-Healthy-rep4\n",
       "1 227             152             184             424            \n",
       "2   0               0               0               0            \n",
       "3  59               0              86              84            \n",
       "4   0               0               0               1            \n",
       "5   3               0               0              21            \n",
       "6   0               0              15              21            \n",
       "  MN-Healthy-rep5 MN-EAE-rep1 MN-EAE-rep2 MN-EAE-rep3 MN-EAE-rep4 MN-EAE-rep5\n",
       "1 1444            102          0          32          30          288        \n",
       "2    0              0          0           0           0            0        \n",
       "3   10             34         15           3           0            0        \n",
       "4    0              9          0           5           0          104        \n",
       "5    0              7          0           0           0            0        \n",
       "6    0              0          0           0           0            0        "
      ]
     },
     "metadata": {},
     "output_type": "display_data"
    },
    {
     "name": "stderr",
     "output_type": "stream",
     "text": [
      "Loading required package: AnnotationDbi\n",
      "\n",
      "Loading required package: stats4\n",
      "\n",
      "Loading required package: IRanges\n",
      "\n",
      "Loading required package: S4Vectors\n",
      "\n",
      "\n",
      "Attaching package: 'S4Vectors'\n",
      "\n",
      "\n",
      "The following objects are masked from 'package:dplyr':\n",
      "\n",
      "    first, rename\n",
      "\n",
      "\n",
      "The following object is masked from 'package:tidyr':\n",
      "\n",
      "    expand\n",
      "\n",
      "\n",
      "The following object is masked from 'package:base':\n",
      "\n",
      "    expand.grid\n",
      "\n",
      "\n",
      "\n",
      "Attaching package: 'IRanges'\n",
      "\n",
      "\n",
      "The following objects are masked from 'package:dplyr':\n",
      "\n",
      "    collapse, desc, slice\n",
      "\n",
      "\n",
      "The following object is masked from 'package:purrr':\n",
      "\n",
      "    reduce\n",
      "\n",
      "\n",
      "The following object is masked from 'package:grDevices':\n",
      "\n",
      "    windows\n",
      "\n",
      "\n",
      "\n",
      "Attaching package: 'AnnotationDbi'\n",
      "\n",
      "\n",
      "The following object is masked from 'package:dplyr':\n",
      "\n",
      "    select\n",
      "\n",
      "\n",
      "\n",
      "\n",
      "'select()' returned 1:many mapping between keys and columns\n",
      "\n"
     ]
    }
   ],
   "source": [
    "library(GEOquery)\n",
    "library(tidyverse)\n",
    "\n",
    "gse = getGEO('GSE104897')\n",
    "samples = gse[[1]][[1]]\n",
    "\n",
    "getGEOSuppFiles('GSE104897', baseDir = 'P:/pro_mitoproteomics_de/repos/')\n",
    "\n",
    "untar('P:/pro_mitoproteomics_de/repos/GSE104897/GSE104897_RAW.tar', exdir = 'P:/pro_mitoproteomics_de/repos/GSE104897/rawfiles')\n",
    "\n",
    "files = list.files('P:/pro_mitoproteomics_de/repos/GSE104897/rawfiles')\n",
    "files = files[grepl(\"raw\", files)]\n",
    "\n",
    "df = data.frame()\n",
    "\n",
    "df = data.frame(gene_id = numeric(0), expr = numeric(0));\n",
    "\n",
    "colnames(df) = c('gene', 'expr')\n",
    "\n",
    "for (file in files) {\n",
    "    dir = paste0('P:/pro_mitoproteomics_de/repos/GSE104897/rawfiles/', file)\n",
    "    x = read.table(dir)\n",
    "    colnames(x) = c('gene', paste0('expr_', file))\n",
    "    df = merge(df, x, by = 'gene', all = T)\n",
    "}\n",
    "\n",
    "colnames(df)[-c(1,2)] = samples\n",
    "\n",
    "head(df)\n",
    "\n",
    "library('org.Mm.eg.db') # remember to install it if you don't have it already\n",
    "symbols <- mapIds(org.Mm.eg.db, keys = df$gene, keytype = \"ENSEMBL\", column=\"SYMBOL\")\n",
    "\n",
    "df$gene = symbols %>% unlist() %>% as.vector()\n",
    "df = df[!is.na(df$gen), ]\n",
    "df = df[!duplicated(df$gene), ]\n",
    "\n",
    "df = df[-c(2)]\n",
    "\n",
    "rownames(df) = 1:nrow(df)"
   ]
  },
  {
   "cell_type": "code",
   "execution_count": 2,
   "metadata": {},
   "outputs": [
    {
     "name": "stderr",
     "output_type": "stream",
     "text": [
      "Loading required package: GenomicRanges\n",
      "\n",
      "Loading required package: GenomeInfoDb\n",
      "\n",
      "Loading required package: SummarizedExperiment\n",
      "\n",
      "Loading required package: DelayedArray\n",
      "\n",
      "Loading required package: matrixStats\n",
      "\n",
      "\n",
      "Attaching package: 'matrixStats'\n",
      "\n",
      "\n",
      "The following object is masked from 'package:dplyr':\n",
      "\n",
      "    count\n",
      "\n",
      "\n",
      "The following objects are masked from 'package:Biobase':\n",
      "\n",
      "    anyMissing, rowMedians\n",
      "\n",
      "\n",
      "\n",
      "Attaching package: 'DelayedArray'\n",
      "\n",
      "\n",
      "The following objects are masked from 'package:matrixStats':\n",
      "\n",
      "    colMaxs, colMins, colRanges, rowMaxs, rowMins, rowRanges\n",
      "\n",
      "\n",
      "The following object is masked from 'package:purrr':\n",
      "\n",
      "    simplify\n",
      "\n",
      "\n",
      "The following objects are masked from 'package:base':\n",
      "\n",
      "    aperm, apply, rowsum\n",
      "\n",
      "\n"
     ]
    },
    {
     "data": {
      "text/html": [
       "<table>\n",
       "<caption>A data.frame: 6 × 10</caption>\n",
       "<thead>\n",
       "\t<tr><th></th><th scope=col>MN-Healthy-rep1</th><th scope=col>MN-Healthy-rep2</th><th scope=col>MN-Healthy-rep3</th><th scope=col>MN-Healthy-rep4</th><th scope=col>MN-Healthy-rep5</th><th scope=col>MN-EAE-rep1</th><th scope=col>MN-EAE-rep2</th><th scope=col>MN-EAE-rep3</th><th scope=col>MN-EAE-rep4</th><th scope=col>MN-EAE-rep5</th></tr>\n",
       "\t<tr><th></th><th scope=col>&lt;int&gt;</th><th scope=col>&lt;int&gt;</th><th scope=col>&lt;int&gt;</th><th scope=col>&lt;int&gt;</th><th scope=col>&lt;int&gt;</th><th scope=col>&lt;int&gt;</th><th scope=col>&lt;int&gt;</th><th scope=col>&lt;int&gt;</th><th scope=col>&lt;int&gt;</th><th scope=col>&lt;int&gt;</th></tr>\n",
       "</thead>\n",
       "<tbody>\n",
       "\t<tr><th scope=row>Gnai3</th><td>227</td><td>152</td><td>184</td><td>424</td><td>1444</td><td>102</td><td> 0</td><td>32</td><td>30</td><td>288</td></tr>\n",
       "\t<tr><th scope=row>Pbsn</th><td>  0</td><td>  0</td><td>  0</td><td>  0</td><td>   0</td><td>  0</td><td> 0</td><td> 0</td><td> 0</td><td>  0</td></tr>\n",
       "\t<tr><th scope=row>Cdc45</th><td> 59</td><td>  0</td><td> 86</td><td> 84</td><td>  10</td><td> 34</td><td>15</td><td> 3</td><td> 0</td><td>  0</td></tr>\n",
       "\t<tr><th scope=row>H19</th><td>  0</td><td>  0</td><td>  0</td><td>  1</td><td>   0</td><td>  9</td><td> 0</td><td> 5</td><td> 0</td><td>104</td></tr>\n",
       "\t<tr><th scope=row>Scml2</th><td>  3</td><td>  0</td><td>  0</td><td> 21</td><td>   0</td><td>  7</td><td> 0</td><td> 0</td><td> 0</td><td>  0</td></tr>\n",
       "\t<tr><th scope=row>Apoh</th><td>  0</td><td>  0</td><td> 15</td><td> 21</td><td>   0</td><td>  0</td><td> 0</td><td> 0</td><td> 0</td><td>  0</td></tr>\n",
       "</tbody>\n",
       "</table>\n"
      ],
      "text/latex": [
       "A data.frame: 6 × 10\n",
       "\\begin{tabular}{r|llllllllll}\n",
       "  & MN-Healthy-rep1 & MN-Healthy-rep2 & MN-Healthy-rep3 & MN-Healthy-rep4 & MN-Healthy-rep5 & MN-EAE-rep1 & MN-EAE-rep2 & MN-EAE-rep3 & MN-EAE-rep4 & MN-EAE-rep5\\\\\n",
       "  & <int> & <int> & <int> & <int> & <int> & <int> & <int> & <int> & <int> & <int>\\\\\n",
       "\\hline\n",
       "\tGnai3 & 227 & 152 & 184 & 424 & 1444 & 102 &  0 & 32 & 30 & 288\\\\\n",
       "\tPbsn &   0 &   0 &   0 &   0 &    0 &   0 &  0 &  0 &  0 &   0\\\\\n",
       "\tCdc45 &  59 &   0 &  86 &  84 &   10 &  34 & 15 &  3 &  0 &   0\\\\\n",
       "\tH19 &   0 &   0 &   0 &   1 &    0 &   9 &  0 &  5 &  0 & 104\\\\\n",
       "\tScml2 &   3 &   0 &   0 &  21 &    0 &   7 &  0 &  0 &  0 &   0\\\\\n",
       "\tApoh &   0 &   0 &  15 &  21 &    0 &   0 &  0 &  0 &  0 &   0\\\\\n",
       "\\end{tabular}\n"
      ],
      "text/markdown": [
       "\n",
       "A data.frame: 6 × 10\n",
       "\n",
       "| <!--/--> | MN-Healthy-rep1 &lt;int&gt; | MN-Healthy-rep2 &lt;int&gt; | MN-Healthy-rep3 &lt;int&gt; | MN-Healthy-rep4 &lt;int&gt; | MN-Healthy-rep5 &lt;int&gt; | MN-EAE-rep1 &lt;int&gt; | MN-EAE-rep2 &lt;int&gt; | MN-EAE-rep3 &lt;int&gt; | MN-EAE-rep4 &lt;int&gt; | MN-EAE-rep5 &lt;int&gt; |\n",
       "|---|---|---|---|---|---|---|---|---|---|---|\n",
       "| Gnai3 | 227 | 152 | 184 | 424 | 1444 | 102 |  0 | 32 | 30 | 288 |\n",
       "| Pbsn |   0 |   0 |   0 |   0 |    0 |   0 |  0 |  0 |  0 |   0 |\n",
       "| Cdc45 |  59 |   0 |  86 |  84 |   10 |  34 | 15 |  3 |  0 |   0 |\n",
       "| H19 |   0 |   0 |   0 |   1 |    0 |   9 |  0 |  5 |  0 | 104 |\n",
       "| Scml2 |   3 |   0 |   0 |  21 |    0 |   7 |  0 |  0 |  0 |   0 |\n",
       "| Apoh |   0 |   0 |  15 |  21 |    0 |   0 |  0 |  0 |  0 |   0 |\n",
       "\n"
      ],
      "text/plain": [
       "      MN-Healthy-rep1 MN-Healthy-rep2 MN-Healthy-rep3 MN-Healthy-rep4\n",
       "Gnai3 227             152             184             424            \n",
       "Pbsn    0               0               0               0            \n",
       "Cdc45  59               0              86              84            \n",
       "H19     0               0               0               1            \n",
       "Scml2   3               0               0              21            \n",
       "Apoh    0               0              15              21            \n",
       "      MN-Healthy-rep5 MN-EAE-rep1 MN-EAE-rep2 MN-EAE-rep3 MN-EAE-rep4\n",
       "Gnai3 1444            102          0          32          30         \n",
       "Pbsn     0              0          0           0           0         \n",
       "Cdc45   10             34         15           3           0         \n",
       "H19      0              9          0           5           0         \n",
       "Scml2    0              7          0           0           0         \n",
       "Apoh     0              0          0           0           0         \n",
       "      MN-EAE-rep5\n",
       "Gnai3 288        \n",
       "Pbsn    0        \n",
       "Cdc45   0        \n",
       "H19   104        \n",
       "Scml2   0        \n",
       "Apoh    0        "
      ]
     },
     "metadata": {},
     "output_type": "display_data"
    }
   ],
   "source": [
    "# https://bioconductor.org/packages/release/bioc/vignettes/DESeq2/inst/doc/DESeq2.html#countmat\n",
    "library(DESeq2)\n",
    "genes = df$gene\n",
    "df = df[, grepl('MN-', colnames(df))]\n",
    "rownames(df) = genes\n",
    "condition = factor(c(rep('ctl', 5), rep('eae', 5)))\n",
    "row.names(df) = genes\n",
    "head(df)"
   ]
  },
  {
   "cell_type": "code",
   "execution_count": 3,
   "metadata": {},
   "outputs": [],
   "source": [
    "coldata = as.matrix(condition)\n",
    "row.names(coldata) = names(df)"
   ]
  },
  {
   "cell_type": "code",
   "execution_count": 4,
   "metadata": {},
   "outputs": [],
   "source": [
    "colnames(coldata) = 'condition'"
   ]
  },
  {
   "cell_type": "code",
   "execution_count": 5,
   "metadata": {},
   "outputs": [
    {
     "name": "stderr",
     "output_type": "stream",
     "text": [
      "Warning message in DESeqDataSet(se, design = design, ignoreRank):\n",
      "\"some variables in design formula are characters, converting to factors\"\n"
     ]
    }
   ],
   "source": [
    "cds = DESeqDataSetFromMatrix(df, coldata, ~condition)"
   ]
  },
  {
   "cell_type": "code",
   "execution_count": 6,
   "metadata": {},
   "outputs": [
    {
     "data": {
      "text/plain": [
       "class: DESeqDataSet \n",
       "dim: 25629 10 \n",
       "metadata(1): version\n",
       "assays(1): counts\n",
       "rownames(25629): Gnai3 Pbsn ... Rhbg LOC108168586\n",
       "rowData names(0):\n",
       "colnames(10): MN-Healthy-rep1 MN-Healthy-rep2 ... MN-EAE-rep4\n",
       "  MN-EAE-rep5\n",
       "colData names(1): condition"
      ]
     },
     "metadata": {},
     "output_type": "display_data"
    }
   ],
   "source": [
    "cds"
   ]
  },
  {
   "cell_type": "code",
   "execution_count": 7,
   "metadata": {},
   "outputs": [],
   "source": [
    "keep <- rowSums(counts(cds)) >= 10\n",
    "cds <- cds[keep,]"
   ]
  },
  {
   "cell_type": "code",
   "execution_count": 8,
   "metadata": {},
   "outputs": [],
   "source": [
    "cds$condition <- factor(cds$condition, levels = c(\"ctl\", \"eae\"))"
   ]
  },
  {
   "cell_type": "code",
   "execution_count": 9,
   "metadata": {},
   "outputs": [],
   "source": [
    "cds$condition <- relevel(cds$condition, ref = \"ctl\")"
   ]
  },
  {
   "cell_type": "code",
   "execution_count": 10,
   "metadata": {},
   "outputs": [],
   "source": [
    "cds$condition <- droplevels(cds$condition)"
   ]
  },
  {
   "cell_type": "code",
   "execution_count": 11,
   "metadata": {},
   "outputs": [
    {
     "name": "stderr",
     "output_type": "stream",
     "text": [
      "estimating size factors\n",
      "\n",
      "estimating dispersions\n",
      "\n",
      "gene-wise dispersion estimates\n",
      "\n",
      "mean-dispersion relationship\n",
      "\n",
      "final dispersion estimates\n",
      "\n",
      "fitting model and testing\n",
      "\n"
     ]
    }
   ],
   "source": [
    "cds = DESeq(cds)"
   ]
  },
  {
   "cell_type": "code",
   "execution_count": 12,
   "metadata": {},
   "outputs": [],
   "source": [
    "res <- results(cds)"
   ]
  },
  {
   "cell_type": "code",
   "execution_count": 13,
   "metadata": {},
   "outputs": [],
   "source": [
    "write.table(res, 'P:/pro_mitoproteomics_de/repos/GSE104897/bsn_rnaseq.txt', sep = '\\t', row.names = T)"
   ]
  },
  {
   "cell_type": "code",
   "execution_count": null,
   "metadata": {},
   "outputs": [],
   "source": [
    "upreg = c('Apol6', 'Col5a3', 'Sh3tc1', 'Bsn', 'Arl4d', 'Vgf', 'Elmo2', 'Cyb5r2', 'Igsf8', 'Nucb1', 'Dpf2', 'Pttg1', 'Clip2', 'Dync1h1', 'Tle3',\n",
    "'Ankrd54', 'Kif1a', 'Map1a', 'Gm37829', 'Tbc1d10b')\n",
    "\n",
    "df[upreg, ]"
   ]
  },
  {
   "cell_type": "code",
   "execution_count": null,
   "metadata": {},
   "outputs": [],
   "source": [
    "counts(cds)"
   ]
  }
 ],
 "metadata": {
  "kernelspec": {
   "display_name": "R 4.0.2",
   "language": "R",
   "name": "ir32"
  },
  "language_info": {
   "codemirror_mode": "r",
   "file_extension": ".r",
   "mimetype": "text/x-r-source",
   "name": "R",
   "pygments_lexer": "r",
   "version": "4.0.2"
  }
 },
 "nbformat": 4,
 "nbformat_minor": 4
}
